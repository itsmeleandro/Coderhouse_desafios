{
 "cells": [
  {
   "cell_type": "code",
   "execution_count": 2,
   "source": [
    "#función para calcular el factorial de un número cualquiera\r\n",
    "#resolviendo el ejercicio con una funcion iterativa\r\n",
    "def factorial(x):\r\n",
    "    if x<0:\r\n",
    "        print (\"el factorial de un numero negativo no esta contemplado\")\r\n",
    "        \r\n",
    "    elif (x==0 or x==1):\r\n",
    "        print(\"el factorial del numero ingresado es\",1) #efectuo controles para los caso 0 y 1 donde el factorial es 1\r\n",
    "        acumulador=1\r\n",
    "        return 1\r\n",
    "    else:\r\n",
    "        acumulador=1\r\n",
    "        for i in range(1,x+1):          #iterando para acumular los valores\r\n",
    "            acumulador=acumulador*i\r\n",
    "        print(\"el factorial del numero ingresado es\",acumulador)\r\n",
    "    \r\n",
    "        return acumulador"
   ],
   "outputs": [],
   "metadata": {}
  },
  {
   "cell_type": "code",
   "execution_count": 3,
   "source": [
    "numero = int(input(\"ingrese el numero\")) #el usuario puede ingresar el numero asi lo hago interactivo \r\n",
    "#print(numero)\r\n",
    "factorial(numero) #llamo a la funcion factorial con el valor ingresado por el usuario."
   ],
   "outputs": [
    {
     "output_type": "stream",
     "name": "stdout",
     "text": [
      "el factorial del numero ingresado es 2\n"
     ]
    },
    {
     "output_type": "execute_result",
     "data": {
      "text/plain": [
       "2"
      ]
     },
     "metadata": {},
     "execution_count": 3
    }
   ],
   "metadata": {}
  },
  {
   "cell_type": "code",
   "execution_count": 4,
   "source": [
    "def facRecursivo(num):\r\n",
    "   if num == 0 or num == 1:\r\n",
    "      \r\n",
    "      return 1\r\n",
    "      \r\n",
    "   else:\r\n",
    "      return num * facRecursivo (num - 1)\r\n",
    "\r\n"
   ],
   "outputs": [],
   "metadata": {}
  },
  {
   "cell_type": "code",
   "execution_count": 5,
   "source": [
    "numero = int(input(\"ingrese el numero\")) #el usuario puede ingresar el numero asi lo hago interactivo \r\n",
    "#print(numero)\r\n",
    "facRecursivo(numero) #llamo a la funcion factorial con el valor ingresado por el usuario.\r\n"
   ],
   "outputs": [
    {
     "output_type": "execute_result",
     "data": {
      "text/plain": [
       "2"
      ]
     },
     "metadata": {},
     "execution_count": 5
    }
   ],
   "metadata": {}
  },
  {
   "cell_type": "code",
   "execution_count": 6,
   "source": [
    "#función para calcular la suma de una serie comenzando por un número cualquiera y terminando en otro número que debe ser mayor al primero\r\n",
    "def sumatoria(a,b):\r\n",
    "    sum=0\r\n",
    "    if (a>b or a==b):\r\n",
    "        print(\"a es mayor o igual que b, no se puede efectual la sumatoria\")\r\n",
    "    else:\r\n",
    "        for x in range(a, b + 1):  #itero para acumular lso valores\r\n",
    "            sum = sum+x \r\n",
    "    return sum  \r\n",
    "    ..."
   ],
   "outputs": [],
   "metadata": {}
  },
  {
   "cell_type": "code",
   "execution_count": 9,
   "source": [
    "numero1 = int(input(\"ingrese el primer numero\")) #el usuario puede ingresar el primer numero\r\n",
    "numero2 = int(input(\"ingrese el seegundo numero\")) #el usuario puede ingresar el segundo numero\r\n",
    "sumatoria(numero1,numero2)\r\n"
   ],
   "outputs": [
    {
     "output_type": "execute_result",
     "data": {
      "text/plain": [
       "55"
      ]
     },
     "metadata": {},
     "execution_count": 9
    }
   ],
   "metadata": {}
  }
 ],
 "metadata": {
  "kernelspec": {
   "name": "python3",
   "display_name": "Python 3.9.6 64-bit"
  },
  "language_info": {
   "codemirror_mode": {
    "name": "ipython",
    "version": 3
   },
   "file_extension": ".py",
   "mimetype": "text/x-python",
   "name": "python",
   "nbconvert_exporter": "python",
   "pygments_lexer": "ipython3",
   "version": "3.9.6"
  },
  "interpreter": {
   "hash": "31e81b3cdbcba4c9e71b17fae73d63fcddb06c6e6bdc0d7f53ebd1ace8b8c2c6"
  }
 },
 "nbformat": 4,
 "nbformat_minor": 5
}